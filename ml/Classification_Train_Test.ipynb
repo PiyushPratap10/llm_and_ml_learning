{
 "cells": [
  {
   "cell_type": "code",
   "execution_count": 3,
   "id": "4576978f",
   "metadata": {},
   "outputs": [],
   "source": [
    "import numpy as np\n",
    "import matplotlib.pyplot as plt\n",
    "from sklearn.model_selection import train_test_split\n"
   ]
  },
  {
   "cell_type": "code",
   "execution_count": 4,
   "id": "685c8823",
   "metadata": {},
   "outputs": [],
   "source": [
    "np.random.seed(0)"
   ]
  },
  {
   "cell_type": "code",
   "execution_count": 5,
   "id": "eeab3800",
   "metadata": {},
   "outputs": [],
   "source": [
    "dogs_whisker_length=np.random.normal(loc=5,scale=1,size=10)\n",
    "dogs_ear_flappiness_index=np.random.normal(loc=8,scale=1,size=10)"
   ]
  },
  {
   "cell_type": "code",
   "execution_count": 6,
   "id": "40a44ffe",
   "metadata": {},
   "outputs": [],
   "source": [
    "cats_whisker_length=np.random.normal(loc=8,scale=1,size=10)\n",
    "cats_ear_flappiness_index=np.random.normal(loc=5,scale=1,size=10)"
   ]
  },
  {
   "cell_type": "code",
   "execution_count": 13,
   "id": "127dcc7a",
   "metadata": {},
   "outputs": [],
   "source": [
    "dogs_data= np.vstack((dogs_whisker_length,dogs_ear_flappiness_index)).T\n",
    "cats_data= np.vstack((cats_whisker_length,cats_ear_flappiness_index)).T\n",
    "data=np.vstack((dogs_data,cats_data))\n",
    "labels = np.hstack((np.zeros(len(dogs_data)), np.ones(len(cats_data))))"
   ]
  },
  {
   "cell_type": "code",
   "execution_count": 14,
   "id": "522ce4c0",
   "metadata": {},
   "outputs": [],
   "source": [
    "X_train, X_test, y_train, y_test = train_test_split(data,labels, test_size=0.2, random_state=42)"
   ]
  },
  {
   "cell_type": "code",
   "execution_count": 15,
   "id": "be2147a3",
   "metadata": {},
   "outputs": [
    {
     "data": {
      "text/plain": [
       "array([[ 4.89678115,  8.3130677 ],\n",
       "       [ 4.02272212,  8.33367433],\n",
       "       [ 8.6536186 ,  5.37816252],\n",
       "       [ 7.2408932 ,  8.12167502],\n",
       "       [ 9.53277921,  4.61267318],\n",
       "       [ 8.04575852,  6.23029068],\n",
       "       [ 7.25783498,  3.01920353],\n",
       "       [ 5.97873798,  8.76103773],\n",
       "       [ 5.4105985 ,  7.14590426],\n",
       "       [ 9.46935877,  4.69769725],\n",
       "       [ 6.86755799,  8.44386323],\n",
       "       [ 8.8644362 ,  4.11221425],\n",
       "       [ 4.84864279,  7.79484174],\n",
       "       [ 5.44701018,  5.15494743],\n",
       "       [10.26975462,  4.65208785],\n",
       "       [ 5.95008842,  9.49407907]])"
      ]
     },
     "execution_count": 15,
     "metadata": {},
     "output_type": "execute_result"
    }
   ],
   "source": [
    "X_train"
   ]
  },
  {
   "cell_type": "code",
   "execution_count": 16,
   "id": "bc736205",
   "metadata": {},
   "outputs": [
    {
     "data": {
      "text/plain": [
       "array([[6.76405235, 8.14404357],\n",
       "       [7.81281615, 6.20237985],\n",
       "       [6.54563433, 5.15634897],\n",
       "       [5.40015721, 9.45427351]])"
      ]
     },
     "execution_count": 16,
     "metadata": {},
     "output_type": "execute_result"
    }
   ],
   "source": [
    "X_test"
   ]
  },
  {
   "cell_type": "code",
   "execution_count": 18,
   "id": "1c0f7b22",
   "metadata": {},
   "outputs": [
    {
     "data": {
      "text/plain": [
       "array([0., 0., 1., 0., 1., 1., 1., 0., 0., 1., 0., 1., 0., 1., 1., 0.])"
      ]
     },
     "execution_count": 18,
     "metadata": {},
     "output_type": "execute_result"
    }
   ],
   "source": [
    "y_train"
   ]
  },
  {
   "cell_type": "code",
   "execution_count": 20,
   "id": "9f2340d9",
   "metadata": {},
   "outputs": [],
   "source": [
    "def compute_error(data_dogs, data_cats, theta, theta0):\n",
    "    error = 0\n",
    "    for x_dog in data_dogs:\n",
    "        if np.dot(theta,x_dog)+theta0 <=0:\n",
    "            error+=1\n",
    "    for x_cat in data_cats:\n",
    "        if np.dot(theta,x_cat)+ theta0>0:\n",
    "            error+=1\n",
    "    return error\n",
    "\n",
    "# Implementing random linear classifier\n",
    "def random_linear_classifier(data_dogs, data_cats,k,d):\n",
    "    # d is the number of features\n",
    "    best_error = float('inf')\n",
    "    best_theta= None\n",
    "    best_theta0=None\n",
    "\n",
    "    for _ in range(k):\n",
    "        theta = np.random.normal(size=d)\n",
    "        theta0=np.random.normal()\n",
    "        error = compute_error(data_dogs,data_cats,theta,theta0)\n",
    "\n",
    "        if error< best_error:\n",
    "            best_error = error\n",
    "            best_theta = theta\n",
    "            best_theta0 = theta0\n",
    "    return best_theta, best_theta0, best_error"
   ]
  },
  {
   "cell_type": "code",
   "execution_count": 23,
   "id": "829b47f2",
   "metadata": {},
   "outputs": [],
   "source": [
    "k=100\n",
    "d=2\n",
    "best_theta_train, best_theta0_train, train_error=random_linear_classifier(X_train[y_train==0],X_train[y_train==1],k,d)"
   ]
  },
  {
   "cell_type": "code",
   "execution_count": 24,
   "id": "906fbf8a",
   "metadata": {},
   "outputs": [
    {
     "data": {
      "text/plain": [
       "(array([-1.18468659,  0.9606934 ]), 1.3290628465396823, 0)"
      ]
     },
     "execution_count": 24,
     "metadata": {},
     "output_type": "execute_result"
    }
   ],
   "source": [
    "best_theta_train, best_theta0_train, train_error"
   ]
  },
  {
   "cell_type": "code",
   "execution_count": 25,
   "id": "b53375f2",
   "metadata": {},
   "outputs": [
    {
     "data": {
      "text/plain": [
       "0"
      ]
     },
     "execution_count": 25,
     "metadata": {},
     "output_type": "execute_result"
    }
   ],
   "source": [
    "test_error = compute_error(X_test[y_test==0], X_test[y_test==1],best_theta_train, best_theta0_train)\n",
    "test_error"
   ]
  },
  {
   "cell_type": "code",
   "execution_count": 26,
   "id": "e84c1cd0",
   "metadata": {},
   "outputs": [
    {
     "data": {
      "text/plain": [
       "0"
      ]
     },
     "execution_count": 26,
     "metadata": {},
     "output_type": "execute_result"
    }
   ],
   "source": [
    "test_error"
   ]
  },
  {
   "cell_type": "code",
   "execution_count": null,
   "id": "e9316973",
   "metadata": {},
   "outputs": [],
   "source": []
  }
 ],
 "metadata": {
  "kernelspec": {
   "display_name": ".venv",
   "language": "python",
   "name": "python3"
  },
  "language_info": {
   "codemirror_mode": {
    "name": "ipython",
    "version": 3
   },
   "file_extension": ".py",
   "mimetype": "text/x-python",
   "name": "python",
   "nbconvert_exporter": "python",
   "pygments_lexer": "ipython3",
   "version": "3.12.4"
  }
 },
 "nbformat": 4,
 "nbformat_minor": 5
}
